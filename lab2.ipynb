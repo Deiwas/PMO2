{
 "cells": [
  {
   "cell_type": "code",
   "execution_count": 167,
   "id": "cbf19509",
   "metadata": {},
   "outputs": [],
   "source": [
    "import math\n",
    "import numpy as np\n",
    "import mpmath\n",
    "import matplotlib.pyplot as plt"
   ]
  },
  {
   "cell_type": "code",
   "execution_count": 168,
   "id": "8861d505",
   "metadata": {},
   "outputs": [
    {
     "name": "stdout",
     "output_type": "stream",
     "text": [
      "[0.5, 0.25, 0.125, 0.0625, 0.03125, 0.015625, 0.0078125, 0.00390625, 0.001953125, 0.0009765625, 0.00048828125, 0.000244140625, 0.0001220703125, 6.103515625e-05, 3.0517578125e-05, 1.52587890625e-05, 7.62939453125e-06, 3.814697265625e-06, 1.9073486328125e-06]\n"
     ]
    }
   ],
   "source": [
    "E = []\n",
    "for i in range(19):\n",
    "    E.append(2**(-i-1))\n",
    "print(E)"
   ]
  },
  {
   "cell_type": "code",
   "execution_count": 169,
   "id": "25200905",
   "metadata": {},
   "outputs": [
    {
     "name": "stdout",
     "output_type": "stream",
     "text": [
      "1.5\n",
      "4\n",
      "1.5\n",
      "7\n",
      "1.625\n",
      "14\n",
      "1.5625\n",
      "26\n",
      "1.5625\n",
      "51\n",
      "1.578125\n",
      "102\n",
      "1.5703125\n",
      "202\n",
      "1.5703125\n",
      "403\n",
      "1.5703125\n",
      "805\n",
      "1.5703125\n",
      "1609\n",
      "1.57080078125\n",
      "3218\n",
      "1.57080078125\n",
      "6435\n",
      "1.57080078125\n",
      "12869\n",
      "1.57080078125\n",
      "25737\n",
      "1.57080078125\n",
      "51473\n",
      "1.57080078125\n",
      "102945\n",
      "1.5707931518554688\n",
      "205888\n",
      "1.5707969665527344\n",
      "411776\n",
      "1.5707969665527344\n",
      "823551\n"
     ]
    }
   ],
   "source": [
    "def function(x):\n",
    "    return math.sin(x - math.pi)\n",
    "\n",
    "def uni(E):\n",
    "    num = 0\n",
    "    res = 0\n",
    "    a = 0\n",
    "    b = 2*math.pi/3\n",
    "    goal = function(a)\n",
    "    for i in np.arange(a+E,b,E):\n",
    "        num += 1\n",
    "        if goal > function(i):\n",
    "            res = i\n",
    "            goal = function(i)\n",
    "        else:\n",
    "            break\n",
    "    print(res)\n",
    "    print(num)\n",
    "    return(num)\n",
    "\n",
    "uni_res = []\n",
    "for i in range(19):\n",
    "    uni_res.append(uni(E[i]))"
   ]
  },
  {
   "cell_type": "code",
   "execution_count": 170,
   "id": "37921f8b",
   "metadata": {},
   "outputs": [
    {
     "name": "stdout",
     "output_type": "stream",
     "text": [
      "1.308996938995747\n",
      "3\n",
      "1.4398966328953218\n",
      "4\n",
      "1.6362461737446838\n",
      "5\n",
      "1.6035212502697902\n",
      "6\n",
      "1.5871587885323435\n",
      "7\n",
      "1.57897755766362\n",
      "8\n",
      "1.5748869422292584\n",
      "9\n",
      "1.5728416345120775\n",
      "10\n",
      "1.571818980653487\n",
      "11\n",
      "1.5713076537241917\n",
      "12\n",
      "1.5710519902595441\n",
      "13\n",
      "1.5709241585272204\n",
      "14\n",
      "1.5708602426610585\n",
      "15\n",
      "1.5708282847279775\n",
      "16\n",
      "1.5708123057614372\n",
      "17\n",
      "1.5708043162781669\n",
      "18\n",
      "1.5708003215365318\n",
      "19\n",
      "1.5707983241657142\n",
      "20\n",
      "1.5707973254803054\n",
      "21\n"
     ]
    }
   ],
   "source": [
    "def dich(E):\n",
    "    num = 0\n",
    "    res = 0\n",
    "    a = 0\n",
    "    b = 2/3*math.pi\n",
    "    while b-a>E:\n",
    "        num += 1\n",
    "        x0 = (a+b)/2\n",
    "        x1 = x0 - E\n",
    "        x2 = x0 + E\n",
    "        if function(x1) < function(x2):\n",
    "            b = x0\n",
    "        else:\n",
    "            a = x0\n",
    "    res = x0\n",
    "    print(res)\n",
    "    print(num)\n",
    "    return(num)\n",
    "\n",
    "dich_res = []\n",
    "for i in range(19):\n",
    "    dich_res.append(dich(E[i]))"
   ]
  },
  {
   "cell_type": "code",
   "execution_count": 171,
   "id": "fce810e9",
   "metadata": {},
   "outputs": [
    {
     "name": "stdout",
     "output_type": "stream",
     "text": [
      "1.2944073591503107\n",
      "3\n",
      "1.4832588477222794\n",
      "5\n",
      "1.4832588477222794\n",
      "6\n",
      "1.5553936975307592\n",
      "8\n",
      "1.5553936975307592\n",
      "9\n",
      "1.5659180302826907\n",
      "11\n",
      "1.5659180302826907\n",
      "12\n",
      "1.569937967685015\n",
      "14\n",
      "1.569937967685015\n",
      "15\n",
      "1.5705244686478133\n",
      "16\n",
      "1.5705244686478133\n",
      "18\n",
      "1.5706629227439028\n",
      "19\n",
      "1.5707484920811678\n",
      "21\n",
      "1.5707811766596083\n",
      "22\n",
      "1.5707811766596083\n",
      "24\n",
      "1.570788892441936\n",
      "25\n",
      "1.5707936610576643\n",
      "27\n",
      "1.5707954825067934\n",
      "28\n",
      "1.5707954825067934\n",
      "29\n"
     ]
    }
   ],
   "source": [
    "def function(x):\n",
    "    return math.sin(x - math.pi)\n",
    "\n",
    "def gold(E):\n",
    "    num = 0\n",
    "    res = 0\n",
    "    a = 0\n",
    "    b = 2*math.pi/3\n",
    "    T = (math.sqrt(5) - 1)/2\n",
    "    while b-a>E:\n",
    "        num += 1\n",
    "        x1 = b - (b - a) * T\n",
    "        x2 = a + (b - a) * T\n",
    "        if function(x1) < function(x2):\n",
    "            b = x2\n",
    "        else:\n",
    "            a = x1\n",
    "            res = x1\n",
    "    print(res)\n",
    "    print(num)\n",
    "    return(num)\n",
    "\n",
    "gold_res = []\n",
    "for i in range(19):\n",
    "    gold_res.append(gold(E[i]))"
   ]
  },
  {
   "cell_type": "code",
   "execution_count": 172,
   "id": "3a721c54",
   "metadata": {},
   "outputs": [
    {
     "name": "stdout",
     "output_type": "stream",
     "text": [
      "1.4580212058968014\n",
      "4\n",
      "1.5807696368062927\n",
      "5\n",
      "1.5342876942192427\n",
      "6\n",
      "1.5633824576437039\n",
      "8\n",
      "1.5522639318334166\n",
      "9\n",
      "1.5702419033504227\n",
      "11\n",
      "1.5676190924974902\n",
      "12\n",
      "1.56924014236678\n",
      "14\n",
      "1.5702420053636057\n",
      "15\n",
      "1.5706246830592654\n",
      "17\n",
      "1.5708611908940209\n",
      "18\n",
      "1.5707708529368931\n",
      "19\n",
      "1.5707708529378253\n",
      "21\n",
      "1.570805358965405\n",
      "22\n",
      "1.5707840330675407\n",
      "24\n",
      "1.5707921788356805\n",
      "25\n",
      "1.5707952902422453\n",
      "27\n",
      "1.5707972131972552\n",
      "28\n",
      "1.5707960247457002\n",
      "30\n"
     ]
    }
   ],
   "source": [
    "def function(x):\n",
    "    return math.sin(x - math.pi)\n",
    "\n",
    "def fib(E):\n",
    "    num = 0\n",
    "    res = 0\n",
    "    a = 0\n",
    "    b = 2*math.pi/3\n",
    "    fib = [1, 1, 2]   \n",
    "    i = 2\n",
    "    while b-a>E:\n",
    "        num += 1\n",
    "        fib.append(fib[-2] + fib[-1])\n",
    "        x1 = a + (b - a) * (fib[i - 1] / fib[i + 1])\n",
    "        x2 = a + (b - a) * (fib[i] / fib[i + 1])\n",
    "        if function(x1) < function(x2):\n",
    "            b = x2\n",
    "        else:\n",
    "            a = x1\n",
    "        i += 1\n",
    "    res = x1\n",
    "    print(res)\n",
    "    print(num)\n",
    "    return(num)\n",
    "\n",
    "fib_res = []\n",
    "for i in range(19):\n",
    "    fib_res.append(fib(E[i]))"
   ]
  },
  {
   "cell_type": "code",
   "execution_count": 173,
   "id": "f9f10ac6",
   "metadata": {},
   "outputs": [
    {
     "data": {
      "text/plain": [
       "<matplotlib.legend.Legend at 0x1973908b190>"
      ]
     },
     "execution_count": 173,
     "metadata": {},
     "output_type": "execute_result"
    },
    {
     "data": {
      "image/png": "[encoded data removed]",
      "text/plain": [
       "<Figure size 432x288 with 1 Axes>"
      ]
     },
     "metadata": {
      "needs_background": "light"
     },
     "output_type": "display_data"
    }
   ],
   "source": [
    "plt.plot(E,uni_res, label = 'uniform')\n",
    "plt.plot(E,dich_res, label = 'dichotomy')\n",
    "plt.plot(E,gold_res, label = 'gold')\n",
    "plt.plot(E,fib_res, label = 'fibonacci')\n",
    "plt.xlim([0, 0.55])\n",
    "plt.ylim([0, 40])\n",
    "plt.legend()"
   ]
  },
  {
   "cell_type": "code",
   "execution_count": null,
   "id": "c74b44f2",
   "metadata": {},
   "outputs": [],
   "source": []
  }
 ],
 "metadata": {
  "kernelspec": {
   "display_name": "Python 3 (ipykernel)",
   "language": "python",
   "name": "python3"
  },
  "language_info": {
   "codemirror_mode": {
    "name": "ipython",
    "version": 3
   },
   "file_extension": ".py",
   "mimetype": "text/x-python",
   "name": "python",
   "nbconvert_exporter": "python",
   "pygments_lexer": "ipython3",
   "version": "3.9.12"
  }
 },
 "nbformat": 4,
 "nbformat_minor": 5
}
